{
 "cells": [
  {
   "cell_type": "markdown",
   "id": "5b92c654",
   "metadata": {},
   "source": [
    "# Assignment-3 Problem Statement :- Build CNN Model for Classification Of Flowers"
   ]
  },
  {
   "cell_type": "raw",
   "id": "75c8ea55",
   "metadata": {},
   "source": [
    "Perform Below Tasks to complete the assignment:-\n",
    "● Download the Dataset : Dataset\n",
    "● Image Augmentation\n",
    "● Create Model\n",
    "● Add Layers (Convolution,MaxPooling,Flatten,Dense-(Hidden\n",
    "Layers),Output)\n",
    "● Compile The Model\n",
    "● Fit The Model\n",
    "● Save The Model\n",
    "● Test The Model"
   ]
  },
  {
   "cell_type": "markdown",
   "id": "2b93b795",
   "metadata": {},
   "source": [
    "# ● Download the Dataset"
   ]
  },
  {
   "cell_type": "markdown",
   "id": "7531a6d0",
   "metadata": {},
   "source": [
    "# ● Image Augmentation\n"
   ]
  },
  {
   "cell_type": "code",
   "execution_count": 2,
   "id": "a2d8c8b8",
   "metadata": {},
   "outputs": [],
   "source": [
    "import tensorflow "
   ]
  },
  {
   "cell_type": "code",
   "execution_count": 3,
   "id": "1bd9ff8b",
   "metadata": {},
   "outputs": [],
   "source": [
    "from tensorflow.keras.preprocessing.image import ImageDataGenerator"
   ]
  },
  {
   "cell_type": "code",
   "execution_count": 33,
   "id": "bbf18fed",
   "metadata": {},
   "outputs": [],
   "source": [
    "train_datagen = ImageDataGenerator(rescale=1./255, validation_split=0.2)"
   ]
  },
  {
   "cell_type": "code",
   "execution_count": 5,
   "id": "67151b2a",
   "metadata": {},
   "outputs": [
    {
     "name": "stdout",
     "output_type": "stream",
     "text": [
      "Found 4317 images belonging to 5 classes.\n"
     ]
    }
   ],
   "source": [
    "x_train = train_datagen.flow_from_directory(r\"C:\\Users\\mstof\\Downloads\\Flowers-Dataset\\flowers\",target_size=(64,64),batch_size=32,class_mode=\"categorical\")"
   ]
  },
  {
   "cell_type": "markdown",
   "id": "4e87b308",
   "metadata": {},
   "source": [
    "# ● Create Model\n"
   ]
  },
  {
   "cell_type": "code",
   "execution_count": 6,
   "id": "673be894",
   "metadata": {},
   "outputs": [],
   "source": [
    "from tensorflow.keras.layers import Convolution2D\n",
    "from tensorflow.keras.layers import MaxPooling2D\n",
    "from tensorflow.keras.layers import Flatten\n",
    "from tensorflow.keras.layers import Dense\n",
    "from tensorflow.keras.models import Sequential"
   ]
  },
  {
   "cell_type": "code",
   "execution_count": 7,
   "id": "5fbc1aa0",
   "metadata": {},
   "outputs": [],
   "source": [
    "model = Sequential()"
   ]
  },
  {
   "cell_type": "markdown",
   "id": "0ec36148",
   "metadata": {},
   "source": [
    "# ● Add Layers (Convolution,MaxPooling,Flatten,Dense-(HiddenLayers),Output)"
   ]
  },
  {
   "cell_type": "code",
   "execution_count": 8,
   "id": "5f1dea8a",
   "metadata": {},
   "outputs": [],
   "source": [
    "model.add(Convolution2D(32,(3,3),input_shape=(64,64,3),activation=\"relu\"))"
   ]
  },
  {
   "cell_type": "code",
   "execution_count": 9,
   "id": "683094e9",
   "metadata": {},
   "outputs": [],
   "source": [
    "model.add(MaxPooling2D(pool_size=(2,2)))"
   ]
  },
  {
   "cell_type": "code",
   "execution_count": 10,
   "id": "08210e45",
   "metadata": {},
   "outputs": [],
   "source": [
    "model.add(Flatten())"
   ]
  },
  {
   "cell_type": "code",
   "execution_count": 11,
   "id": "cae7f9b8",
   "metadata": {},
   "outputs": [],
   "source": [
    "model.add(Dense(units=300,kernel_initializer=\"random_uniform\",activation=\"relu\"))"
   ]
  },
  {
   "cell_type": "code",
   "execution_count": 12,
   "id": "f662e7d3",
   "metadata": {},
   "outputs": [],
   "source": [
    "model.add(Dense(units=200,kernel_initializer=\"random_uniform\",activation=\"relu\"))"
   ]
  },
  {
   "cell_type": "code",
   "execution_count": 13,
   "id": "8a143086",
   "metadata": {},
   "outputs": [],
   "source": [
    "model.add(Dense(units=5,kernel_initializer=\"random_uniform\",activation=\"softmax\"))"
   ]
  },
  {
   "cell_type": "markdown",
   "id": "e14dc6d8",
   "metadata": {},
   "source": [
    "# ● Compile The Model\n"
   ]
  },
  {
   "cell_type": "code",
   "execution_count": 14,
   "id": "f5048591",
   "metadata": {},
   "outputs": [],
   "source": [
    "model.compile(loss=\"categorical_crossentropy\",optimizer=\"adam\",metrics=['accuracy'])"
   ]
  },
  {
   "cell_type": "markdown",
   "id": "5e4ea6b5",
   "metadata": {},
   "source": [
    "# ● Fit The Model"
   ]
  },
  {
   "cell_type": "code",
   "execution_count": 15,
   "id": "12d5cea1",
   "metadata": {
    "scrolled": false
   },
   "outputs": [
    {
     "name": "stdout",
     "output_type": "stream",
     "text": [
      "Epoch 1/50\n",
      "135/135 [==============================] - 23s 163ms/step - loss: 1.2656 - accuracy: 0.4617\n",
      "Epoch 2/50\n",
      "135/135 [==============================] - 20s 149ms/step - loss: 0.9821 - accuracy: 0.6034\n",
      "Epoch 3/50\n",
      "135/135 [==============================] - 19s 141ms/step - loss: 0.6702 - accuracy: 0.7464\n",
      "Epoch 4/50\n",
      "135/135 [==============================] - 21s 152ms/step - loss: 0.4049 - accuracy: 0.8559\n",
      "Epoch 5/50\n",
      "135/135 [==============================] - 23s 172ms/step - loss: 0.1788 - accuracy: 0.9460\n",
      "Epoch 6/50\n",
      "135/135 [==============================] - 22s 160ms/step - loss: 0.0907 - accuracy: 0.9761\n",
      "Epoch 7/50\n",
      "135/135 [==============================] - 21s 155ms/step - loss: 0.0373 - accuracy: 0.9910\n",
      "Epoch 8/50\n",
      "135/135 [==============================] - 20s 147ms/step - loss: 0.0549 - accuracy: 0.9873\n",
      "Epoch 9/50\n",
      "135/135 [==============================] - 19s 138ms/step - loss: 0.0509 - accuracy: 0.9886\n",
      "Epoch 10/50\n",
      "135/135 [==============================] - 19s 139ms/step - loss: 0.0399 - accuracy: 0.9884\n",
      "Epoch 11/50\n",
      "135/135 [==============================] - 19s 138ms/step - loss: 0.0585 - accuracy: 0.9856\n",
      "Epoch 12/50\n",
      "135/135 [==============================] - 19s 142ms/step - loss: 0.0526 - accuracy: 0.9875\n",
      "Epoch 13/50\n",
      "135/135 [==============================] - 20s 145ms/step - loss: 0.0247 - accuracy: 0.9931\n",
      "Epoch 14/50\n",
      "135/135 [==============================] - 18s 132ms/step - loss: 0.0504 - accuracy: 0.9854\n",
      "Epoch 15/50\n",
      "135/135 [==============================] - 18s 134ms/step - loss: 0.0543 - accuracy: 0.9845\n",
      "Epoch 16/50\n",
      "135/135 [==============================] - 18s 133ms/step - loss: 0.0201 - accuracy: 0.9949\n",
      "Epoch 17/50\n",
      "135/135 [==============================] - 18s 136ms/step - loss: 0.0088 - accuracy: 0.9986\n",
      "Epoch 18/50\n",
      "135/135 [==============================] - 18s 135ms/step - loss: 0.0045 - accuracy: 0.9988\n",
      "Epoch 19/50\n",
      "135/135 [==============================] - 18s 135ms/step - loss: 0.0045 - accuracy: 0.9984\n",
      "Epoch 20/50\n",
      "135/135 [==============================] - 18s 133ms/step - loss: 0.0059 - accuracy: 0.9986\n",
      "Epoch 21/50\n",
      "135/135 [==============================] - 18s 134ms/step - loss: 0.0047 - accuracy: 0.9991\n",
      "Epoch 22/50\n",
      "135/135 [==============================] - 19s 141ms/step - loss: 0.0047 - accuracy: 0.9988\n",
      "Epoch 23/50\n",
      "135/135 [==============================] - 19s 142ms/step - loss: 0.0031 - accuracy: 0.9988\n",
      "Epoch 24/50\n",
      "135/135 [==============================] - 19s 138ms/step - loss: 0.0025 - accuracy: 0.9986\n",
      "Epoch 25/50\n",
      "135/135 [==============================] - 18s 132ms/step - loss: 0.0022 - accuracy: 0.9988\n",
      "Epoch 26/50\n",
      "135/135 [==============================] - 19s 137ms/step - loss: 0.0020 - accuracy: 0.9984\n",
      "Epoch 27/50\n",
      "135/135 [==============================] - 18s 134ms/step - loss: 0.0043 - accuracy: 0.9986\n",
      "Epoch 28/50\n",
      "135/135 [==============================] - 20s 145ms/step - loss: 0.0030 - accuracy: 0.9988\n",
      "Epoch 29/50\n",
      "135/135 [==============================] - 23s 170ms/step - loss: 0.0022 - accuracy: 0.9986\n",
      "Epoch 30/50\n",
      "135/135 [==============================] - 22s 163ms/step - loss: 0.0016 - accuracy: 0.9988\n",
      "Epoch 31/50\n",
      "135/135 [==============================] - 21s 154ms/step - loss: 0.0015 - accuracy: 0.9986\n",
      "Epoch 32/50\n",
      "135/135 [==============================] - 22s 165ms/step - loss: 0.0015 - accuracy: 0.9991\n",
      "Epoch 33/50\n",
      "135/135 [==============================] - 20s 148ms/step - loss: 0.0022 - accuracy: 0.9986\n",
      "Epoch 34/50\n",
      "135/135 [==============================] - 18s 132ms/step - loss: 0.0070 - accuracy: 0.9984\n",
      "Epoch 35/50\n",
      "135/135 [==============================] - 18s 132ms/step - loss: 0.2664 - accuracy: 0.9187\n",
      "Epoch 36/50\n",
      "135/135 [==============================] - 17s 129ms/step - loss: 0.0823 - accuracy: 0.9754\n",
      "Epoch 37/50\n",
      "135/135 [==============================] - 17s 129ms/step - loss: 0.0344 - accuracy: 0.9905\n",
      "Epoch 38/50\n",
      "135/135 [==============================] - 18s 130ms/step - loss: 0.0134 - accuracy: 0.9947\n",
      "Epoch 39/50\n",
      "135/135 [==============================] - 17s 129ms/step - loss: 0.0078 - accuracy: 0.9975\n",
      "Epoch 40/50\n",
      "135/135 [==============================] - 18s 132ms/step - loss: 0.0035 - accuracy: 0.9981\n",
      "Epoch 41/50\n",
      "135/135 [==============================] - 18s 132ms/step - loss: 0.0056 - accuracy: 0.9991\n",
      "Epoch 42/50\n",
      "135/135 [==============================] - 18s 132ms/step - loss: 0.0024 - accuracy: 0.9991\n",
      "Epoch 43/50\n",
      "135/135 [==============================] - 18s 134ms/step - loss: 0.0019 - accuracy: 0.9986\n",
      "Epoch 44/50\n",
      "135/135 [==============================] - 19s 140ms/step - loss: 0.0018 - accuracy: 0.9991\n",
      "Epoch 45/50\n",
      "135/135 [==============================] - 20s 148ms/step - loss: 0.0017 - accuracy: 0.9988\n",
      "Epoch 46/50\n",
      "135/135 [==============================] - 21s 155ms/step - loss: 0.0016 - accuracy: 0.9986\n",
      "Epoch 47/50\n",
      "135/135 [==============================] - 24s 180ms/step - loss: 0.0015 - accuracy: 0.9988\n",
      "Epoch 48/50\n",
      "135/135 [==============================] - 21s 155ms/step - loss: 0.0015 - accuracy: 0.9993\n",
      "Epoch 49/50\n",
      "135/135 [==============================] - 21s 155ms/step - loss: 0.0014 - accuracy: 0.9991\n",
      "Epoch 50/50\n",
      "135/135 [==============================] - 23s 169ms/step - loss: 0.0015 - accuracy: 0.9991\n"
     ]
    },
    {
     "data": {
      "text/plain": [
       "<keras.callbacks.History at 0x1e7490d5ca0>"
      ]
     },
     "execution_count": 15,
     "metadata": {},
     "output_type": "execute_result"
    }
   ],
   "source": [
    "model.fit(x_train,steps_per_epoch=135,epochs=50)"
   ]
  },
  {
   "cell_type": "markdown",
   "id": "87ab5502",
   "metadata": {},
   "source": [
    "# ● Save The Model"
   ]
  },
  {
   "cell_type": "code",
   "execution_count": 18,
   "id": "2af16aa1",
   "metadata": {},
   "outputs": [],
   "source": [
    "model.save(\"Flowers.h5\")"
   ]
  },
  {
   "cell_type": "markdown",
   "id": "356e3b91",
   "metadata": {},
   "source": [
    "# ● Test The Model"
   ]
  },
  {
   "cell_type": "code",
   "execution_count": 19,
   "id": "c05f88b8",
   "metadata": {},
   "outputs": [],
   "source": [
    "from tensorflow.keras.models import load_model\n",
    "from tensorflow.keras.preprocessing import image"
   ]
  },
  {
   "cell_type": "code",
   "execution_count": 20,
   "id": "b0bf6da5",
   "metadata": {},
   "outputs": [],
   "source": [
    "model = load_model(\"Flowers.h5\")"
   ]
  },
  {
   "cell_type": "code",
   "execution_count": 60,
   "id": "1e904885",
   "metadata": {},
   "outputs": [],
   "source": [
    "img = image.load_img(\"jbskk.jpg\",target_size=(64,64))"
   ]
  },
  {
   "cell_type": "code",
   "execution_count": 61,
   "id": "962c2bc9",
   "metadata": {},
   "outputs": [
    {
     "data": {
      "image/png": "[encoded data removed]",
      "text/plain": [
       "<PIL.Image.Image image mode=RGB size=64x64 at 0x1E7520283D0>"
      ]
     },
     "execution_count": 61,
     "metadata": {},
     "output_type": "execute_result"
    }
   ],
   "source": [
    "img"
   ]
  },
  {
   "cell_type": "code",
   "execution_count": 62,
   "id": "27dd89e4",
   "metadata": {},
   "outputs": [
    {
     "data": {
      "text/plain": [
       "PIL.Image.Image"
      ]
     },
     "execution_count": 62,
     "metadata": {},
     "output_type": "execute_result"
    }
   ],
   "source": [
    "type(img)"
   ]
  },
  {
   "cell_type": "code",
   "execution_count": 63,
   "id": "a5adefe1",
   "metadata": {},
   "outputs": [],
   "source": [
    "x=image.img_to_array(img)"
   ]
  },
  {
   "cell_type": "code",
   "execution_count": 64,
   "id": "615548fd",
   "metadata": {},
   "outputs": [
    {
     "data": {
      "text/plain": [
       "array([[[118.,  81.,  63.],\n",
       "        [131.,  83.,  71.],\n",
       "        [127.,  79.,  67.],\n",
       "        ...,\n",
       "        [140.,  98.,  76.],\n",
       "        [146., 104.,  82.],\n",
       "        [157., 114.,  95.]],\n",
       "\n",
       "       [[147.,  98.,  84.],\n",
       "        [161.,  99.,  88.],\n",
       "        [166., 100.,  88.],\n",
       "        ...,\n",
       "        [151., 109.,  87.],\n",
       "        [158., 115.,  96.],\n",
       "        [162., 124., 105.]],\n",
       "\n",
       "       [[162., 110.,  97.],\n",
       "        [174., 104.,  94.],\n",
       "        [172.,  98.,  85.],\n",
       "        ...,\n",
       "        [146., 108.,  89.],\n",
       "        [157., 120., 101.],\n",
       "        [163., 127., 111.]],\n",
       "\n",
       "       ...,\n",
       "\n",
       "       [[126.,  94.,  83.],\n",
       "        [114.,  84.,  73.],\n",
       "        [161., 120., 114.],\n",
       "        ...,\n",
       "        [ 88.,  66.,  53.],\n",
       "        [ 89.,  67.,  54.],\n",
       "        [ 95.,  71.,  59.]],\n",
       "\n",
       "       [[ 13.,  13.,  13.],\n",
       "        [ 44.,  18.,  17.],\n",
       "        [ 99.,  61.,  52.],\n",
       "        ...,\n",
       "        [100.,  76.,  64.],\n",
       "        [108.,  84.,  72.],\n",
       "        [106.,  84.,  71.]],\n",
       "\n",
       "       [[ 13.,  13.,  15.],\n",
       "        [ 12.,  13.,  15.],\n",
       "        [ 12.,  13.,  15.],\n",
       "        ...,\n",
       "        [108.,  86.,  73.],\n",
       "        [105.,  85.,  74.],\n",
       "        [113.,  90.,  82.]]], dtype=float32)"
      ]
     },
     "execution_count": 64,
     "metadata": {},
     "output_type": "execute_result"
    }
   ],
   "source": [
    "x"
   ]
  },
  {
   "cell_type": "code",
   "execution_count": 65,
   "id": "225361e5",
   "metadata": {},
   "outputs": [
    {
     "data": {
      "text/plain": [
       "(64, 64, 3)"
      ]
     },
     "execution_count": 65,
     "metadata": {},
     "output_type": "execute_result"
    }
   ],
   "source": [
    "x.shape"
   ]
  },
  {
   "cell_type": "code",
   "execution_count": 66,
   "id": "0685da83",
   "metadata": {},
   "outputs": [],
   "source": [
    "import numpy as np"
   ]
  },
  {
   "cell_type": "code",
   "execution_count": 67,
   "id": "eec565f6",
   "metadata": {},
   "outputs": [],
   "source": [
    "x=np.expand_dims(x,axis=0)"
   ]
  },
  {
   "cell_type": "code",
   "execution_count": 68,
   "id": "e4795ae9",
   "metadata": {},
   "outputs": [
    {
     "data": {
      "text/plain": [
       "(1, 64, 64, 3)"
      ]
     },
     "execution_count": 68,
     "metadata": {},
     "output_type": "execute_result"
    }
   ],
   "source": [
    "x.shape"
   ]
  },
  {
   "cell_type": "code",
   "execution_count": 69,
   "id": "80deedad",
   "metadata": {},
   "outputs": [
    {
     "name": "stdout",
     "output_type": "stream",
     "text": [
      "1/1 [==============================] - 0s 41ms/step\n"
     ]
    }
   ],
   "source": [
    "pred_prob=model.predict(x)"
   ]
  },
  {
   "cell_type": "code",
   "execution_count": 70,
   "id": "adcc92c2",
   "metadata": {},
   "outputs": [
    {
     "data": {
      "text/plain": [
       "array([[0., 0., 1., 0., 0.]], dtype=float32)"
      ]
     },
     "execution_count": 70,
     "metadata": {},
     "output_type": "execute_result"
    }
   ],
   "source": [
    "pred_prob"
   ]
  },
  {
   "cell_type": "code",
   "execution_count": 71,
   "id": "32b7c3b5",
   "metadata": {},
   "outputs": [],
   "source": [
    "class_name=np.array([\"daisy\",\"dandelion\",\"rose\",\"sunflower\",\"tulip\"])\n",
    "pred_id=pred_prob.argmax(axis=1)"
   ]
  },
  {
   "cell_type": "code",
   "execution_count": 72,
   "id": "003772b8",
   "metadata": {},
   "outputs": [
    {
     "data": {
      "text/plain": [
       "array([2], dtype=int64)"
      ]
     },
     "execution_count": 72,
     "metadata": {},
     "output_type": "execute_result"
    }
   ],
   "source": [
    "pred_id"
   ]
  },
  {
   "cell_type": "code",
   "execution_count": 73,
   "id": "08258d17",
   "metadata": {},
   "outputs": [
    {
     "name": "stdout",
     "output_type": "stream",
     "text": [
      "The pedicted flower is ['rose']\n"
     ]
    }
   ],
   "source": [
    "print(\"The pedicted flower is\",str(class_name[pred_id]))"
   ]
  },
  {
   "cell_type": "markdown",
   "id": "3bbf7f8e",
   "metadata": {},
   "source": [
    "# END OF THE ASSIGNMENT"
   ]
  }
 ],
 "metadata": {
  "kernelspec": {
   "display_name": "Python 3 (ipykernel)",
   "language": "python",
   "name": "python3"
  },
  "language_info": {
   "codemirror_mode": {
    "name": "ipython",
    "version": 3
   },
   "file_extension": ".py",
   "mimetype": "text/x-python",
   "name": "python",
   "nbconvert_exporter": "python",
   "pygments_lexer": "ipython3",
   "version": "3.9.12"
  }
 },
 "nbformat": 4,
 "nbformat_minor": 5
}
